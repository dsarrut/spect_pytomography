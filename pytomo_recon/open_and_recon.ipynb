{
 "cells": [
  {
   "cell_type": "markdown",
   "metadata": {},
   "source": [
    "# PyTomography Recon Notebook\n",
    "\n",
    "2 Sections\n",
    "1. Proposed I/O functionality to add to PyTomography\n",
    "2. Image reconstruction\n",
    "\n",
    "I've added TODO comments for things that David/Luke can work on."
   ]
  },
  {
   "cell_type": "code",
   "execution_count": 1,
   "metadata": {},
   "outputs": [],
   "source": [
    "import pytomography\n",
    "import torch\n",
    "import numpy as np\n",
    "import matplotlib.pyplot as plt\n",
    "import re\n",
    "import os\n",
    "from pytomography.io.SPECT import dicom\n",
    "from pathlib import Path\n",
    "from pytomography.metadata.SPECT import SPECTObjectMeta, SPECTProjMeta\n",
    "import os\n",
    "import numpy as np\n",
    "from pytomography.io.SPECT import dicom\n",
    "from pytomography.transforms.SPECT import SPECTAttenuationTransform, SPECTPSFTransform\n",
    "from pytomography.algorithms import OSEM\n",
    "from pytomography.projectors.SPECT import SPECTSystemMatrix\n",
    "from pytomography.likelihoods import PoissonLogLikelihood\n",
    "import matplotlib.pyplot as plt\n",
    "import pydicom\n",
    "import shutil"
   ]
  },
  {
   "cell_type": "markdown",
   "metadata": {},
   "source": [
    "# Part 1: Proposed GATE I/O Functionality"
   ]
  },
  {
   "cell_type": "markdown",
   "metadata": {},
   "source": [
    "This function already exists in PyTomography, but is updated below to account for the fact that multiple values can be stored on the same line of a header file (e.g. ElementSpacing = ...)"
   ]
  },
  {
   "cell_type": "code",
   "execution_count": 2,
   "metadata": {},
   "outputs": [],
   "source": [
    "def get_header_value(\n",
    "    list_of_attributes: list[str],\n",
    "    header: str,\n",
    "    dtype: type = np.float32,\n",
    "    split_substr = ':=',\n",
    "    split_idx = -1,\n",
    "    return_all = False\n",
    "    ) -> float|str|int:\n",
    "    header = header.replace('[', r'\\[').replace(']',r'\\]').replace('(', r'\\(').replace(')', r'\\)')\n",
    "    y = np.vectorize(lambda y, x: bool(re.compile(x).search(y)))\n",
    "    selection = y(list_of_attributes, header).astype(bool)\n",
    "    lines = list_of_attributes[selection]\n",
    "    if len(lines)==0:\n",
    "        return False\n",
    "    values = []\n",
    "    for i, line in enumerate(lines):\n",
    "        if dtype == np.float32:\n",
    "            values.append(np.float32(line.replace('\\n', '').split(split_substr)[split_idx]))\n",
    "        elif dtype == str:\n",
    "            values.append(line.replace('\\n', '').split(split_substr)[split_idx].replace(' ', ''))\n",
    "        elif dtype == int:\n",
    "            values.append(int(line.replace('\\n', '').split(split_substr)[split_idx].replace(' ', '')))\n",
    "        elif dtype == list:\n",
    "            values.append(line.replace('\\n', '').split(split_substr)[split_idx].lstrip().split(' '))\n",
    "        if not(return_all):\n",
    "            return values[0]\n",
    "    return values"
   ]
  },
  {
   "cell_type": "markdown",
   "metadata": {},
   "source": [
    "These are the functions we propose to add to a new GATE I/O module for PyTomography. "
   ]
  },
  {
   "cell_type": "code",
   "execution_count": 3,
   "metadata": {},
   "outputs": [],
   "source": [
    "def get_metadata(headerfile):\n",
    "    with open(headerfile) as f:\n",
    "        headerdata = f.readlines()\n",
    "    headerdata = np.array(headerdata)\n",
    "    # Get projection spacing\n",
    "    projection_spacing = get_header_value(headerdata, 'ElementSpacing', list, split_substr = '=')\n",
    "    projection_spacing = [float(x) for x in projection_spacing]\n",
    "    dx, dz = projection_spacing[0], projection_spacing[2]\n",
    "\n",
    "    # Get dimenisions\n",
    "    projection_dimensions = get_header_value(headerdata, 'DimSize', list, split_substr = '=')\n",
    "    projection_dimensions = [int(x) for x in projection_dimensions]\n",
    "    Nx, Nz, Nangles = projection_dimensions[0], projection_dimensions[1], projection_dimensions[2]\n",
    "\n",
    "    # TODO: (David) is there a way to add these to the headers?\n",
    "    start_angle = 0\n",
    "    extent_of_rotation = 360\n",
    "    direction = 'CCW'\n",
    "\n",
    "    angles = np.linspace(-start_angle, -start_angle+extent_of_rotation, Nangles, endpoint=False)\n",
    "    if direction=='CW':\n",
    "        angles = -angles % 360\n",
    "        \n",
    "    # TODO: (David)  can we add radial positions to headers as well?\n",
    "    radius_constant = 16\n",
    "    radii = np.ones(Nangles)*radius_constant\n",
    "\n",
    "    shape_obj = (Nx, Nx, Nz)\n",
    "    dr_obj = (dx, dx, dz)\n",
    "\n",
    "    object_meta = SPECTObjectMeta(dr_obj,shape_obj)\n",
    "    proj_meta = SPECTProjMeta((Nx, Nz), (dx,dz), angles, radii)\n",
    "    return object_meta, proj_meta\n",
    "\n",
    "def get_projections(headerfile):\n",
    "    with open(headerfile) as f:\n",
    "        headerdata = f.readlines()\n",
    "    headerdata = np.array(headerdata)\n",
    "    object_meta, proj_meta = get_metadata(headerfile)\n",
    "    Nangle, Nx, Nz = proj_meta.shape\n",
    "    imagefile = get_header_value(headerdata, 'ElementDataFile', str, split_substr = '=')\n",
    "    projections = np.fromfile(os.path.join(str(Path(headerfile).parent), imagefile), dtype=np.float32).reshape((Nangle,Nx,Nz))\n",
    "    projections = torch.tensor(projections.copy()).to(pytomography.device).swapaxes(1,2)\n",
    "    # TODO Luke: Check orientation of projections\n",
    "    return projections"
   ]
  },
  {
   "cell_type": "markdown",
   "metadata": {},
   "source": [
    "# Part 2: PyTomography Reconstruction"
   ]
  },
  {
   "cell_type": "code",
   "execution_count": 4,
   "metadata": {},
   "outputs": [],
   "source": [
    "# Change these to where downloaded\n",
    "headerfile = '/home/gpuvmadm/spect_pytomography/output/03_iec_arf_200sec/projections_ene_1.mhd'\n",
    "datafile = '/home/gpuvmadm/spect_pytomography/output/03_iec_arf_200sec/projections_ene_1.raw'"
   ]
  },
  {
   "cell_type": "markdown",
   "metadata": {},
   "source": [
    "Obtain projecitons and metadata"
   ]
  },
  {
   "cell_type": "code",
   "execution_count": 5,
   "metadata": {},
   "outputs": [],
   "source": [
    "object_meta, proj_meta = get_metadata(headerfile)\n",
    "projections = get_projections(headerfile)"
   ]
  },
  {
   "cell_type": "markdown",
   "metadata": {},
   "source": [
    "Attenuation correction:"
   ]
  },
  {
   "cell_type": "code",
   "execution_count": 6,
   "metadata": {},
   "outputs": [],
   "source": [
    "# TODO: (David) can we add the attenuation map as one of the data files so we can perform attenuation correction? I'll also need to write a data loader for this. I leave attenuation correction out for now"
   ]
  },
  {
   "cell_type": "markdown",
   "metadata": {},
   "source": [
    "PSF modeling:"
   ]
  },
  {
   "cell_type": "code",
   "execution_count": 7,
   "metadata": {},
   "outputs": [],
   "source": [
    "# TODO (David) is there a way of providing the collimator code so we can automatically get the PSF meta? Right now I use the dicom functionality with the corresponding code\n",
    "collimator_name = 'SY-LEHR' # assuming this is the collimator\n",
    "energy_kev = 140.5 #keV\n",
    "intrinsic_resolution=0.38 #mm\n",
    "psf_meta = dicom.get_psfmeta_from_scanner_params(\n",
    "    collimator_name,\n",
    "    energy_kev,\n",
    "    intrinsic_resolution=intrinsic_resolution\n",
    ")\n",
    "psf_transform = SPECTPSFTransform(psf_meta)"
   ]
  },
  {
   "cell_type": "markdown",
   "metadata": {},
   "source": [
    "Scatter correction"
   ]
  },
  {
   "cell_type": "code",
   "execution_count": 8,
   "metadata": {},
   "outputs": [],
   "source": [
    "# TODO (David) can you add a lower energy window to the Tc-99m data so we can do dual energy window scatter correction? SIMIND stores seperate energy windows using seperate header/data files"
   ]
  },
  {
   "cell_type": "markdown",
   "metadata": {},
   "source": [
    "Build system matrix"
   ]
  },
  {
   "cell_type": "code",
   "execution_count": 9,
   "metadata": {},
   "outputs": [],
   "source": [
    "system_matrix = SPECTSystemMatrix(\n",
    "        obj2obj_transforms = [psf_transform],\n",
    "        proj2proj_transforms = [],\n",
    "        object_meta = object_meta,\n",
    "        proj_meta = proj_meta)\n",
    "likelihood = PoissonLogLikelihood(system_matrix, projections)\n",
    "reconstruction_algorithm = OSEM(likelihood)\n",
    "reconstructed_object = reconstruction_algorithm(n_iters=4, n_subsets=8)"
   ]
  },
  {
   "cell_type": "markdown",
   "metadata": {},
   "source": [
    "Show reconstruction:"
   ]
  },
  {
   "cell_type": "code",
   "execution_count": 10,
   "metadata": {},
   "outputs": [
    {
     "data": {
      "image/png": "[encoded data removed]",
      "text/plain": [
       "<Figure size 300x300 with 1 Axes>"
      ]
     },
     "metadata": {},
     "output_type": "display_data"
    }
   ],
   "source": [
    "plt.figure(figsize=(3,3))\n",
    "plt.imshow(reconstructed_object[:,:,70].cpu().T, cmap='magma', origin='lower', interpolation='Gaussian')\n",
    "plt.xlim(40,85)\n",
    "plt.ylim(30,85)\n",
    "plt.axis('off')\n",
    "plt.show()"
   ]
  }
 ],
 "metadata": {
  "kernelspec": {
   "display_name": "pytomo_install_test",
   "language": "python",
   "name": "python3"
  },
  "language_info": {
   "codemirror_mode": {
    "name": "ipython",
    "version": 3
   },
   "file_extension": ".py",
   "mimetype": "text/x-python",
   "name": "python",
   "nbconvert_exporter": "python",
   "pygments_lexer": "ipython3",
   "version": "3.11.10"
  }
 },
 "nbformat": 4,
 "nbformat_minor": 2
}
